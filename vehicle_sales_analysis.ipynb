{
  "cells": [
    {
      "cell_type": "markdown",
      "metadata": {
        "id": "view-in-github",
        "colab_type": "text"
      },
      "source": [
        "<a href=\"https://colab.research.google.com/github/michaelwnau/ai-academy-intro-to-ai/blob/main/vehicle_sales_analysis.ipynb\" target=\"_parent\"><img src=\"https://colab.research.google.com/assets/colab-badge.svg\" alt=\"Open In Colab\"/></a>"
      ]
    },
    {
      "cell_type": "markdown",
      "id": "3a817962",
      "metadata": {
        "id": "3a817962"
      },
      "source": [
        "# Vehicle Sales Analysis"
      ]
    },
    {
      "cell_type": "markdown",
      "id": "6285d6ae",
      "metadata": {
        "id": "6285d6ae"
      },
      "source": [
        "## Introduction\n",
        "Analysis of different vehicle configurations and their sales outcomes."
      ]
    },
    {
      "cell_type": "markdown",
      "id": "97cecd55",
      "metadata": {
        "id": "97cecd55"
      },
      "source": [
        "## Data Loading"
      ]
    },
    {
      "cell_type": "code",
      "source": [
        "!pip install pandas"
      ],
      "metadata": {
        "colab": {
          "base_uri": "https://localhost:8080/"
        },
        "id": "rkTed2ES9wV5",
        "outputId": "68183efa-8c4a-4d82-aec5-47f59c0535b3"
      },
      "id": "rkTed2ES9wV5",
      "execution_count": null,
      "outputs": [
        {
          "output_type": "stream",
          "name": "stdout",
          "text": [
            "Requirement already satisfied: pandas in /usr/local/lib/python3.10/dist-packages (1.5.3)\n",
            "Requirement already satisfied: python-dateutil>=2.8.1 in /usr/local/lib/python3.10/dist-packages (from pandas) (2.8.2)\n",
            "Requirement already satisfied: pytz>=2020.1 in /usr/local/lib/python3.10/dist-packages (from pandas) (2023.3)\n",
            "Requirement already satisfied: numpy>=1.21.0 in /usr/local/lib/python3.10/dist-packages (from pandas) (1.23.5)\n",
            "Requirement already satisfied: six>=1.5 in /usr/local/lib/python3.10/dist-packages (from python-dateutil>=2.8.1->pandas) (1.16.0)\n"
          ]
        }
      ]
    },
    {
      "cell_type": "code",
      "source": [
        "from google.colab import drive\n",
        "drive.mount('/content/drive')"
      ],
      "metadata": {
        "id": "DM1wOKj27zJf",
        "colab": {
          "base_uri": "https://localhost:8080/"
        },
        "outputId": "27be7037-f263-491c-e011-70f01fc09c38"
      },
      "id": "DM1wOKj27zJf",
      "execution_count": null,
      "outputs": [
        {
          "output_type": "stream",
          "name": "stdout",
          "text": [
            "Drive already mounted at /content/drive; to attempt to forcibly remount, call drive.mount(\"/content/drive\", force_remount=True).\n"
          ]
        }
      ]
    },
    {
      "cell_type": "code",
      "execution_count": 14,
      "id": "82e0b946",
      "metadata": {
        "id": "82e0b946"
      },
      "outputs": [],
      "source": [
        "import pandas as pd\n",
        "\n",
        "df = pd.read_excel(\"/content/drive/MyDrive/3-Intro-to-AI/copy-of-salesTableSmall.xlsx\")"
      ]
    },
    {
      "cell_type": "markdown",
      "id": "9fc408db",
      "metadata": {
        "id": "9fc408db"
      },
      "source": [
        "## Data Cleaning"
      ]
    },
    {
      "cell_type": "code",
      "execution_count": 15,
      "id": "f673c53c",
      "metadata": {
        "id": "f673c53c"
      },
      "outputs": [],
      "source": [
        "# Drop unnecessary columns\n",
        "df_cleaned = df.drop(columns=[\"Unnamed: 0\", \"Unnamed: 7\"])\n",
        "\n",
        "# Handle missing values: for now, let's drop rows with NaN values\n",
        "df_cleaned = df_cleaned.dropna()"
      ]
    },
    {
      "cell_type": "markdown",
      "id": "e0e72b5c",
      "metadata": {
        "id": "e0e72b5c"
      },
      "source": [
        "## Data Analysis"
      ]
    },
    {
      "cell_type": "markdown",
      "id": "6db44940",
      "metadata": {
        "id": "6db44940"
      },
      "source": [
        "### Probability Computation"
      ]
    },
    {
      "cell_type": "code",
      "execution_count": 16,
      "id": "aad90ec6",
      "metadata": {
        "id": "aad90ec6"
      },
      "outputs": [],
      "source": [
        "def compute_probabilities(df):\n",
        "    # Calculate p(sold|items)\n",
        "    df['p(sold|items)_computed'] = df.apply(\n",
        "        lambda row: len(df[(df['Moon Roof'] == row['Moon Roof']) &\n",
        "                           (df['Spinning Rims'] == row['Spinning Rims']) &\n",
        "                           (df['Decals'] == row['Decals']) &\n",
        "                           (df['Tinted Windows'] == row['Tinted Windows']) &\n",
        "                           (df['Body Lift'] == row['Body Lift']) &\n",
        "                           (df['Sold'] == 'Y')]) /\n",
        "        len(df[(df['Moon Roof'] == row['Moon Roof']) &\n",
        "               (df['Spinning Rims'] == row['Spinning Rims']) &\n",
        "               (df['Decals'] == row['Decals']) &\n",
        "               (df['Tinted Windows'] == row['Tinted Windows']) &\n",
        "               (df['Body Lift'] == row['Body Lift'])]),\n",
        "        axis=1\n",
        "    )\n",
        "\n",
        "    # Calculate p(~sold|items)\n",
        "    df['p(~sold|items)_computed'] = 1 - df['p(sold|items)_computed']\n",
        "\n",
        "    return df\n",
        "\n",
        "df_with_probabilities = compute_probabilities(df_cleaned)"
      ]
    },
    {
      "cell_type": "markdown",
      "id": "615e1254",
      "metadata": {
        "id": "615e1254"
      },
      "source": [
        "### Displaying Results"
      ]
    },
    {
      "cell_type": "code",
      "execution_count": 17,
      "id": "89a22f75",
      "metadata": {
        "id": "89a22f75",
        "colab": {
          "base_uri": "https://localhost:8080/",
          "height": 89
        },
        "outputId": "f83b6619-d469-4bb3-cc9d-4ffcb43e9edf"
      },
      "outputs": [
        {
          "output_type": "execute_result",
          "data": {
            "text/plain": [
              "  Moon Roof Spinning Rims Decals Tinted Windows Body Lift Sold  p(sold|items)  \\\n",
              "0         Y             N      Y              N         Y    N       0.003086   \n",
              "\n",
              "   p(~sold|items) sold?  p(sold|items)_computed  p(~sold|items)_computed  \n",
              "0        0.015625     N                     0.0                      1.0  "
            ],
            "text/html": [
              "\n",
              "  <div id=\"df-82262204-a1a5-4b7d-8b78-d684f42b4878\" class=\"colab-df-container\">\n",
              "    <div>\n",
              "<style scoped>\n",
              "    .dataframe tbody tr th:only-of-type {\n",
              "        vertical-align: middle;\n",
              "    }\n",
              "\n",
              "    .dataframe tbody tr th {\n",
              "        vertical-align: top;\n",
              "    }\n",
              "\n",
              "    .dataframe thead th {\n",
              "        text-align: right;\n",
              "    }\n",
              "</style>\n",
              "<table border=\"1\" class=\"dataframe\">\n",
              "  <thead>\n",
              "    <tr style=\"text-align: right;\">\n",
              "      <th></th>\n",
              "      <th>Moon Roof</th>\n",
              "      <th>Spinning Rims</th>\n",
              "      <th>Decals</th>\n",
              "      <th>Tinted Windows</th>\n",
              "      <th>Body Lift</th>\n",
              "      <th>Sold</th>\n",
              "      <th>p(sold|items)</th>\n",
              "      <th>p(~sold|items)</th>\n",
              "      <th>sold?</th>\n",
              "      <th>p(sold|items)_computed</th>\n",
              "      <th>p(~sold|items)_computed</th>\n",
              "    </tr>\n",
              "  </thead>\n",
              "  <tbody>\n",
              "    <tr>\n",
              "      <th>0</th>\n",
              "      <td>Y</td>\n",
              "      <td>N</td>\n",
              "      <td>Y</td>\n",
              "      <td>N</td>\n",
              "      <td>Y</td>\n",
              "      <td>N</td>\n",
              "      <td>0.003086</td>\n",
              "      <td>0.015625</td>\n",
              "      <td>N</td>\n",
              "      <td>0.0</td>\n",
              "      <td>1.0</td>\n",
              "    </tr>\n",
              "  </tbody>\n",
              "</table>\n",
              "</div>\n",
              "    <div class=\"colab-df-buttons\">\n",
              "\n",
              "  <div class=\"colab-df-container\">\n",
              "    <button class=\"colab-df-convert\" onclick=\"convertToInteractive('df-82262204-a1a5-4b7d-8b78-d684f42b4878')\"\n",
              "            title=\"Convert this dataframe to an interactive table.\"\n",
              "            style=\"display:none;\">\n",
              "\n",
              "  <svg xmlns=\"http://www.w3.org/2000/svg\" height=\"24px\" viewBox=\"0 -960 960 960\">\n",
              "    <path d=\"M120-120v-720h720v720H120Zm60-500h600v-160H180v160Zm220 220h160v-160H400v160Zm0 220h160v-160H400v160ZM180-400h160v-160H180v160Zm440 0h160v-160H620v160ZM180-180h160v-160H180v160Zm440 0h160v-160H620v160Z\"/>\n",
              "  </svg>\n",
              "    </button>\n",
              "\n",
              "  <style>\n",
              "    .colab-df-container {\n",
              "      display:flex;\n",
              "      gap: 12px;\n",
              "    }\n",
              "\n",
              "    .colab-df-convert {\n",
              "      background-color: #E8F0FE;\n",
              "      border: none;\n",
              "      border-radius: 50%;\n",
              "      cursor: pointer;\n",
              "      display: none;\n",
              "      fill: #1967D2;\n",
              "      height: 32px;\n",
              "      padding: 0 0 0 0;\n",
              "      width: 32px;\n",
              "    }\n",
              "\n",
              "    .colab-df-convert:hover {\n",
              "      background-color: #E2EBFA;\n",
              "      box-shadow: 0px 1px 2px rgba(60, 64, 67, 0.3), 0px 1px 3px 1px rgba(60, 64, 67, 0.15);\n",
              "      fill: #174EA6;\n",
              "    }\n",
              "\n",
              "    .colab-df-buttons div {\n",
              "      margin-bottom: 4px;\n",
              "    }\n",
              "\n",
              "    [theme=dark] .colab-df-convert {\n",
              "      background-color: #3B4455;\n",
              "      fill: #D2E3FC;\n",
              "    }\n",
              "\n",
              "    [theme=dark] .colab-df-convert:hover {\n",
              "      background-color: #434B5C;\n",
              "      box-shadow: 0px 1px 3px 1px rgba(0, 0, 0, 0.15);\n",
              "      filter: drop-shadow(0px 1px 2px rgba(0, 0, 0, 0.3));\n",
              "      fill: #FFFFFF;\n",
              "    }\n",
              "  </style>\n",
              "\n",
              "    <script>\n",
              "      const buttonEl =\n",
              "        document.querySelector('#df-82262204-a1a5-4b7d-8b78-d684f42b4878 button.colab-df-convert');\n",
              "      buttonEl.style.display =\n",
              "        google.colab.kernel.accessAllowed ? 'block' : 'none';\n",
              "\n",
              "      async function convertToInteractive(key) {\n",
              "        const element = document.querySelector('#df-82262204-a1a5-4b7d-8b78-d684f42b4878');\n",
              "        const dataTable =\n",
              "          await google.colab.kernel.invokeFunction('convertToInteractive',\n",
              "                                                    [key], {});\n",
              "        if (!dataTable) return;\n",
              "\n",
              "        const docLinkHtml = 'Like what you see? Visit the ' +\n",
              "          '<a target=\"_blank\" href=https://colab.research.google.com/notebooks/data_table.ipynb>data table notebook</a>'\n",
              "          + ' to learn more about interactive tables.';\n",
              "        element.innerHTML = '';\n",
              "        dataTable['output_type'] = 'display_data';\n",
              "        await google.colab.output.renderOutput(dataTable, element);\n",
              "        const docLink = document.createElement('div');\n",
              "        docLink.innerHTML = docLinkHtml;\n",
              "        element.appendChild(docLink);\n",
              "      }\n",
              "    </script>\n",
              "  </div>\n",
              "\n",
              "\n",
              "<div id=\"df-d72ea051-c88c-4a32-b271-64b30ceff6af\">\n",
              "  <button class=\"colab-df-quickchart\" onclick=\"quickchart('df-d72ea051-c88c-4a32-b271-64b30ceff6af')\"\n",
              "            title=\"Suggest charts.\"\n",
              "            style=\"display:none;\">\n",
              "\n",
              "<svg xmlns=\"http://www.w3.org/2000/svg\" height=\"24px\"viewBox=\"0 0 24 24\"\n",
              "     width=\"24px\">\n",
              "    <g>\n",
              "        <path d=\"M19 3H5c-1.1 0-2 .9-2 2v14c0 1.1.9 2 2 2h14c1.1 0 2-.9 2-2V5c0-1.1-.9-2-2-2zM9 17H7v-7h2v7zm4 0h-2V7h2v10zm4 0h-2v-4h2v4z\"/>\n",
              "    </g>\n",
              "</svg>\n",
              "  </button>\n",
              "\n",
              "<style>\n",
              "  .colab-df-quickchart {\n",
              "    background-color: #E8F0FE;\n",
              "    border: none;\n",
              "    border-radius: 50%;\n",
              "    cursor: pointer;\n",
              "    display: none;\n",
              "    fill: #1967D2;\n",
              "    height: 32px;\n",
              "    padding: 0 0 0 0;\n",
              "    width: 32px;\n",
              "  }\n",
              "\n",
              "  .colab-df-quickchart:hover {\n",
              "    background-color: #E2EBFA;\n",
              "    box-shadow: 0px 1px 2px rgba(60, 64, 67, 0.3), 0px 1px 3px 1px rgba(60, 64, 67, 0.15);\n",
              "    fill: #174EA6;\n",
              "  }\n",
              "\n",
              "  [theme=dark] .colab-df-quickchart {\n",
              "    background-color: #3B4455;\n",
              "    fill: #D2E3FC;\n",
              "  }\n",
              "\n",
              "  [theme=dark] .colab-df-quickchart:hover {\n",
              "    background-color: #434B5C;\n",
              "    box-shadow: 0px 1px 3px 1px rgba(0, 0, 0, 0.15);\n",
              "    filter: drop-shadow(0px 1px 2px rgba(0, 0, 0, 0.3));\n",
              "    fill: #FFFFFF;\n",
              "  }\n",
              "</style>\n",
              "\n",
              "  <script>\n",
              "    async function quickchart(key) {\n",
              "      const charts = await google.colab.kernel.invokeFunction(\n",
              "          'suggestCharts', [key], {});\n",
              "    }\n",
              "    (() => {\n",
              "      let quickchartButtonEl =\n",
              "        document.querySelector('#df-d72ea051-c88c-4a32-b271-64b30ceff6af button');\n",
              "      quickchartButtonEl.style.display =\n",
              "        google.colab.kernel.accessAllowed ? 'block' : 'none';\n",
              "    })();\n",
              "  </script>\n",
              "</div>\n",
              "    </div>\n",
              "  </div>\n"
            ]
          },
          "metadata": {},
          "execution_count": 17
        }
      ],
      "source": [
        "df_with_probabilities"
      ]
    },
    {
      "cell_type": "markdown",
      "id": "2d7bbd58",
      "metadata": {
        "id": "2d7bbd58"
      },
      "source": [
        "## Conclusion"
      ]
    },
    {
      "cell_type": "markdown",
      "id": "5185f218",
      "metadata": {
        "id": "5185f218"
      },
      "source": [
        "Insights drawn from the analysis."
      ]
    }
  ],
  "metadata": {
    "colab": {
      "provenance": [],
      "include_colab_link": true
    },
    "language_info": {
      "name": "python"
    },
    "kernelspec": {
      "name": "python3",
      "display_name": "Python 3"
    }
  },
  "nbformat": 4,
  "nbformat_minor": 5
}